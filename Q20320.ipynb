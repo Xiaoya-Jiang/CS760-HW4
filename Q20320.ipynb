{
 "cells": [
  {
   "cell_type": "code",
   "execution_count": 62,
   "metadata": {},
   "outputs": [],
   "source": [
    "import tarfile\n",
    "\n",
    "# Open the .tgz file\n",
    "with tarfile.open('languageID.tgz', 'r:gz') as tar:\n",
    "    # Extract all files in the archive\n",
    "    tar.extractall()"
   ]
  },
  {
   "cell_type": "code",
   "execution_count": 63,
   "metadata": {},
   "outputs": [],
   "source": [
    "import os\n",
    "import numpy as np\n",
    "from collections import Counter"
   ]
  },
  {
   "cell_type": "code",
   "execution_count": 64,
   "metadata": {},
   "outputs": [],
   "source": [
    "characters = [' ','a','b','c','d','e','f','g','h','i','j','k','l','m','n',\n",
    "                  'o','p','q','r','s','t','u','v','w','x','y','z']"
   ]
  },
  {
   "cell_type": "code",
   "execution_count": 65,
   "metadata": {},
   "outputs": [],
   "source": [
    "cate = 3\n",
    "alpha = 1/2"
   ]
  },
  {
   "cell_type": "code",
   "execution_count": 66,
   "metadata": {},
   "outputs": [
    {
     "ename": "AttributeError",
     "evalue": "module 'os' has no attribute 'lstdir'",
     "output_type": "error",
     "traceback": [
      "\u001b[0;31m---------------------------------------------------------------------------\u001b[0m",
      "\u001b[0;31mAttributeError\u001b[0m                            Traceback (most recent call last)",
      "\u001b[0;32m<ipython-input-66-e7a65fc4b5df>\u001b[0m in \u001b[0;36m<module>\u001b[0;34m\u001b[0m\n\u001b[1;32m      1\u001b[0m \u001b[0mdataset\u001b[0m \u001b[0;34m=\u001b[0m \u001b[0;34m\"languageID\"\u001b[0m\u001b[0;34m\u001b[0m\u001b[0;34m\u001b[0m\u001b[0m\n\u001b[0;32m----> 2\u001b[0;31m \u001b[0mfiles\u001b[0m \u001b[0;34m=\u001b[0m \u001b[0mos\u001b[0m\u001b[0;34m.\u001b[0m\u001b[0mlstdir\u001b[0m\u001b[0;34m(\u001b[0m\u001b[0mdataset_dir\u001b[0m\u001b[0;34m)\u001b[0m\u001b[0;34m\u001b[0m\u001b[0;34m\u001b[0m\u001b[0m\n\u001b[0m\u001b[1;32m      3\u001b[0m \u001b[0mX_train\u001b[0m \u001b[0;34m=\u001b[0m \u001b[0;34m[\u001b[0m\u001b[0;34m]\u001b[0m\u001b[0;34m\u001b[0m\u001b[0;34m\u001b[0m\u001b[0m\n\u001b[1;32m      4\u001b[0m \u001b[0my_train\u001b[0m \u001b[0;34m=\u001b[0m \u001b[0;34m[\u001b[0m\u001b[0;34m]\u001b[0m\u001b[0;34m\u001b[0m\u001b[0;34m\u001b[0m\u001b[0m\n\u001b[1;32m      5\u001b[0m \u001b[0mX_test\u001b[0m \u001b[0;34m=\u001b[0m \u001b[0;34m[\u001b[0m\u001b[0;34m]\u001b[0m\u001b[0;34m\u001b[0m\u001b[0;34m\u001b[0m\u001b[0m\n",
      "\u001b[0;31mAttributeError\u001b[0m: module 'os' has no attribute 'lstdir'"
     ]
    }
   ],
   "source": [
    "dataset = \"languageID\"\n",
    "files = os.lstdir(dataset_dir)\n",
    "X_train = []\n",
    "y_train = []\n",
    "X_test = []\n",
    "y_test = []"
   ]
  },
  {
   "cell_type": "code",
   "execution_count": 67,
   "metadata": {},
   "outputs": [],
   "source": [
    "path = './languageID/'\n",
    "name1 = 'e0.txt'\n",
    "\n",
    "def count(language, docID):\n",
    "    name1 = str(language)+str(docID)+'.txt'\n",
    "    with open(path + name1, 'r') as info:\n",
    "      count = Counter(info.read().lower())\n",
    "        \n",
    "    characters = [' ','a','b','c','d','e','f','g','h','i','j','k','l','m','n',\n",
    "                  'o','p','q','r','s','t','u','v','w','x','y','z']\n",
    "    CondCount = np.empty((0,2))\n",
    "    \n",
    "    # CondProb = [[],[]]\n",
    "    i = 0.0\n",
    "    total = sum(count.values()) - count['\\n']\n",
    "    \n",
    "    for char in characters:\n",
    "        if (char in count):\n",
    "            pos = np.reshape(np.array([i,count[char]]),(1,2))\n",
    "        else: \n",
    "            pos = np.reshape(np.array([i,0]),(1,2))\n",
    "        CondCount = np.append(CondCount,pos,axis=0)\n",
    "        i += 1.0\n",
    "        \n",
    "    return CondCount[:,[1]]\n",
    "\n",
    "CondCount = count('e',0)"
   ]
  },
  {
   "cell_type": "code",
   "execution_count": 68,
   "metadata": {},
   "outputs": [],
   "source": [
    "condProb_e = np.zeros([27, 1])\n",
    "condProb_j = np.zeros([27, 1])\n",
    "condProb_s = np.zeros([27, 1])\n",
    "alpha = 0.5\n",
    "for i in range(0,10):\n",
    "    condProb_e = condProb_e + count('e', i)\n",
    "condProb_e = (condProb_e + alpha) / (np.sum(condProb_e) + 27 * alpha)\n",
    "\n",
    "for i in range(0,10):\n",
    "    condProb_j = condProb_e + count('j', i)\n",
    "condProb_j = (condProb_j + alpha) / (np.sum(condProb_j) + 27 * alpha)\n",
    "\n",
    "for i in range(0,10):\n",
    "    condProb_s = condProb_e + count('s', i)\n",
    "condProb_s = (condProb_s + alpha) / (np.sum(condProb_s) + 27 * alpha)\n",
    "#(2)(3)\n",
    "print(condProb_e)\n",
    "print(condProb_j)\n",
    "print(condProb_s)"
   ]
  },
  {
   "cell_type": "code",
   "execution_count": 69,
   "metadata": {},
   "outputs": [
    {
     "name": "stdout",
     "output_type": "stream",
     "text": [
      "[[498.]\n",
      " [164.]\n",
      " [ 32.]\n",
      " [ 53.]\n",
      " [ 57.]\n",
      " [311.]\n",
      " [ 55.]\n",
      " [ 51.]\n",
      " [140.]\n",
      " [140.]\n",
      " [  3.]\n",
      " [  6.]\n",
      " [ 85.]\n",
      " [ 64.]\n",
      " [139.]\n",
      " [182.]\n",
      " [ 53.]\n",
      " [  3.]\n",
      " [141.]\n",
      " [186.]\n",
      " [225.]\n",
      " [ 65.]\n",
      " [ 31.]\n",
      " [ 47.]\n",
      " [  4.]\n",
      " [ 38.]\n",
      " [  2.]]\n"
     ]
    }
   ],
   "source": [
    "#(4)\n",
    "condCount_e10 = count('e', 10)\n",
    "print(condCount_e10)"
   ]
  },
  {
   "cell_type": "code",
   "execution_count": 82,
   "metadata": {},
   "outputs": [
    {
     "name": "stdout",
     "output_type": "stream",
     "text": [
      "[[-7841.86544706]]\n",
      "[[-8922.76515777]]\n",
      "[[-8501.06080924]]\n"
     ]
    }
   ],
   "source": [
    "#(5)\n",
    "print(np.dot(condCount_e10.T,np.log(condProb_e)))\n",
    "print(np.dot(condCount_e10.T,np.log(condProb_j)))\n",
    "print(np.dot(condCount_e10.T,np.log(condProb_s)))"
   ]
  },
  {
   "cell_type": "code",
   "execution_count": 84,
   "metadata": {},
   "outputs": [
    {
     "name": "stdout",
     "output_type": "stream",
     "text": [
      "[[-7842.96405935]]\n",
      "[[-8923.86377006]]\n",
      "[[-8502.15942153]]\n"
     ]
    }
   ],
   "source": [
    "#(6)\n",
    "print(np.dot(condCount_e10.T,np.log(condProb_e)) + np.log(1/3))\n",
    "print(np.dot(condCount_e10.T,np.log(condProb_j)) + np.log(1/3))\n",
    "print(np.dot(condCount_e10.T,np.log(condProb_s)) + np.log(1/3))"
   ]
  },
  {
   "cell_type": "code",
   "execution_count": 100,
   "metadata": {},
   "outputs": [
    {
     "name": "stdout",
     "output_type": "stream",
     "text": [
      "e10:\n",
      "[[-7842.96405935]]\n",
      "[[-8502.15942153]]\n",
      "[[-8923.86377006]]\n",
      "e19:\n",
      "[[-1656.95535419]]\n",
      "[[-1748.80011112]]\n",
      "[[-1837.38810941]]\n",
      "s10:\n",
      "[[-4970.17665072]]\n",
      "[[-4734.50094369]]\n",
      "[[-5669.80171141]]\n",
      "s19:\n",
      "[[-3374.51772585]]\n",
      "[[-3213.62730305]]\n",
      "[[-3816.51876098]]\n",
      "j10:\n",
      "[[-4544.34814709]]\n",
      "[[-4887.70543342]]\n",
      "[[-4162.55265064]]\n",
      "j19:\n",
      "[[-4274.40780723]]\n",
      "[[-4498.77009226]]\n",
      "[[-3904.27905799]]\n"
     ]
    }
   ],
   "source": [
    "#(7)\n",
    "condCount_e10 = count('e', 10)\n",
    "condCount_e19 = count('e', 19)\n",
    "condCount_j10 = count('j', 10)\n",
    "condCount_j19 = count('j', 19)\n",
    "condCount_s10 = count('s', 10)\n",
    "condCount_s19 = count('s', 19)\n",
    "\n",
    "print(\"e10:\")\n",
    "print(np.dot(condCount_e10.T,np.log(condProb_e)) + np.log(1/3))\n",
    "print(np.dot(condCount_e10.T,np.log(condProb_s)) + np.log(1/3))\n",
    "print(np.dot(condCount_e10.T,np.log(condProb_j)) + np.log(1/3))\n",
    "\n",
    "print(\"e19:\")\n",
    "print(np.dot(condCount_e19.T,np.log(condProb_e)) + np.log(1/3))\n",
    "print(np.dot(condCount_e19.T,np.log(condProb_s)) + np.log(1/3))\n",
    "print(np.dot(condCount_e19.T,np.log(condProb_j)) + np.log(1/3))\n",
    "\n",
    "print(\"s10:\")\n",
    "print(np.dot(condCount_s10.T,np.log(condProb_e)) + np.log(1/3))\n",
    "print(np.dot(condCount_s10.T,np.log(condProb_s)) + np.log(1/3))\n",
    "print(np.dot(condCount_s10.T,np.log(condProb_j)) + np.log(1/3))\n",
    "\n",
    "print(\"s19:\")\n",
    "print(np.dot(condCount_s19.T,np.log(condProb_e)) + np.log(1/3))\n",
    "print(np.dot(condCount_s19.T,np.log(condProb_s)) + np.log(1/3))\n",
    "print(np.dot(condCount_s19.T,np.log(condProb_j)) + np.log(1/3))\n",
    "\n",
    "print(\"j10:\")\n",
    "print(np.dot(condCount_j10.T,np.log(condProb_e)) + np.log(1/3))\n",
    "print(np.dot(condCount_j10.T,np.log(condProb_s)) + np.log(1/3))\n",
    "print(np.dot(condCount_j10.T,np.log(condProb_j)) + np.log(1/3))\n",
    "\n",
    "print(\"j19:\")\n",
    "print(np.dot(condCount_j19.T,np.log(condProb_e)) + np.log(1/3))\n",
    "print(np.dot(condCount_j19.T,np.log(condProb_s)) + np.log(1/3))\n",
    "print(np.dot(condCount_j19.T,np.log(condProb_j)) + np.log(1/3))\n",
    "\n",
    "\n"
   ]
  },
  {
   "cell_type": "code",
   "execution_count": 87,
   "metadata": {},
   "outputs": [],
   "source": [
    "#(8)"
   ]
  },
  {
   "cell_type": "code",
   "execution_count": null,
   "metadata": {},
   "outputs": [],
   "source": []
  }
 ],
 "metadata": {
  "kernelspec": {
   "display_name": "Python 3",
   "language": "python",
   "name": "python3"
  },
  "language_info": {
   "codemirror_mode": {
    "name": "ipython",
    "version": 3
   },
   "file_extension": ".py",
   "mimetype": "text/x-python",
   "name": "python",
   "nbconvert_exporter": "python",
   "pygments_lexer": "ipython3",
   "version": "3.7.6"
  }
 },
 "nbformat": 4,
 "nbformat_minor": 5
}
